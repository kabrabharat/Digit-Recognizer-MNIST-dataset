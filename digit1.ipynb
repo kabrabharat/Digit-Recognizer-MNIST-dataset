{
 "cells": [
  {
   "cell_type": "code",
   "execution_count": 1,
   "metadata": {},
   "outputs": [
    {
     "name": "stderr",
     "output_type": "stream",
     "text": [
      "Using TensorFlow backend.\n"
     ]
    }
   ],
   "source": [
    "import keras\n",
    "from keras.datasets import mnist\n",
    "import matplotlib.pyplot as plt\n",
    "import numpy as np\n",
    "import PIL\n",
    "import cv2"
   ]
  },
  {
   "cell_type": "code",
   "execution_count": 2,
   "metadata": {},
   "outputs": [],
   "source": [
    "(X_train, y_train), (X_test, y_test) = mnist.load_data()"
   ]
  },
  {
   "cell_type": "code",
   "execution_count": 3,
   "metadata": {},
   "outputs": [
    {
     "data": {
      "image/png": "[encoded data removed]",
      "text/plain": [
       "<Figure size 432x288 with 4 Axes>"
      ]
     },
     "metadata": {
      "needs_background": "light"
     },
     "output_type": "display_data"
    }
   ],
   "source": [
    "# plot 4 images as gray scale\n",
    "plt.subplot(221)\n",
    "plt.imshow(X_train[0])\n",
    "plt.subplot(222)\n",
    "plt.imshow(X_train[1], cmap=plt.get_cmap('gray'))\n",
    "plt.subplot(223)\n",
    "plt.imshow(X_train[2], cmap=plt.get_cmap('gray'))\n",
    "plt.subplot(224)\n",
    "plt.imshow(X_train[3], cmap=plt.get_cmap('gray'))\n",
    "# show the plot\n",
    "plt.show()"
   ]
  },
  {
   "cell_type": "code",
   "execution_count": 45,
   "metadata": {},
   "outputs": [
    {
     "data": {
      "text/plain": [
       "60000"
      ]
     },
     "execution_count": 45,
     "metadata": {},
     "output_type": "execute_result"
    }
   ],
   "source": [
    "len(X_train)"
   ]
  },
  {
   "cell_type": "code",
   "execution_count": 46,
   "metadata": {},
   "outputs": [],
   "source": [
    "size = 128\n",
    "color = [0, 0, 0]\n",
    "new_X_train = []\n",
    "new_X_test = []\n",
    "old_size = X_train[0].shape[0]\n",
    "new_size = size-old_size\n",
    "top = bottom = right = left = new_size//2"
   ]
  },
  {
   "cell_type": "code",
   "execution_count": 47,
   "metadata": {},
   "outputs": [],
   "source": [
    "#for i in range(len(X_train)):\n",
    "#    new_X_train.append(cv2.copyMakeBorder(X_train[i], top, bottom, left, right, cv2.BORDER_CONSTANT, value=color))"
   ]
  },
  {
   "cell_type": "code",
   "execution_count": 48,
   "metadata": {},
   "outputs": [],
   "source": [
    "from numba import jit"
   ]
  },
  {
   "cell_type": "code",
   "execution_count": 49,
   "metadata": {},
   "outputs": [],
   "source": [
    "@jit\n",
    "def training():\n",
    "    for i in range(len(X_train)):\n",
    "        new_X_train.append(cv2.copyMakeBorder(X_train[i], top, bottom, left, right, cv2.BORDER_CONSTANT, value=color))"
   ]
  },
  {
   "cell_type": "code",
   "execution_count": 50,
   "metadata": {},
   "outputs": [],
   "source": [
    "training()"
   ]
  },
  {
   "cell_type": "code",
   "execution_count": 51,
   "metadata": {},
   "outputs": [],
   "source": [
    "\n",
    "@jit\n",
    "def testing():\n",
    "    for i in range(len(X_test)):\n",
    "        new_X_test.append(cv2.copyMakeBorder(X_test[i], top, bottom, left, right, cv2.BORDER_CONSTANT, value=color))"
   ]
  },
  {
   "cell_type": "code",
   "execution_count": 52,
   "metadata": {},
   "outputs": [],
   "source": [
    "testing()"
   ]
  },
  {
   "cell_type": "code",
   "execution_count": null,
   "metadata": {},
   "outputs": [],
   "source": []
  },
  {
   "cell_type": "code",
   "execution_count": 53,
   "metadata": {},
   "outputs": [
    {
     "data": {
      "text/plain": [
       "list"
      ]
     },
     "execution_count": 53,
     "metadata": {},
     "output_type": "execute_result"
    }
   ],
   "source": [
    "type(new_X_train)"
   ]
  },
  {
   "cell_type": "code",
   "execution_count": 54,
   "metadata": {},
   "outputs": [],
   "source": [
    "X_train = np.array(new_X_train, dtype=np.uint8)"
   ]
  },
  {
   "cell_type": "code",
   "execution_count": 55,
   "metadata": {},
   "outputs": [
    {
     "data": {
      "text/plain": [
       "<matplotlib.image.AxesImage at 0x7fbabfbee518>"
      ]
     },
     "execution_count": 55,
     "metadata": {},
     "output_type": "execute_result"
    },
    {
     "data": {
      "image/png": "[encoded data removed]",
      "text/plain": [
       "<Figure size 432x288 with 1 Axes>"
      ]
     },
     "metadata": {
      "needs_background": "light"
     },
     "output_type": "display_data"
    }
   ],
   "source": [
    "plt.imshow(new_X_train[0])"
   ]
  },
  {
   "cell_type": "code",
   "execution_count": 56,
   "metadata": {},
   "outputs": [],
   "source": [
    "X_test = np.array(new_X_test, dtype=np.uint8)"
   ]
  },
  {
   "cell_type": "code",
   "execution_count": 57,
   "metadata": {},
   "outputs": [
    {
     "data": {
      "text/plain": [
       "array([5, 0, 4, ..., 5, 6, 8], dtype=uint8)"
      ]
     },
     "execution_count": 57,
     "metadata": {},
     "output_type": "execute_result"
    }
   ],
   "source": [
    "#training()\n",
    "#from numba import cuda\n",
    "#print(cuda.gpus)\n",
    "y_train"
   ]
  },
  {
   "cell_type": "code",
   "execution_count": null,
   "metadata": {},
   "outputs": [],
   "source": [
    "X_train = X_train.reshape(new_X_train.shape[0],128,128,1)\n",
    "X_test = X_test.reshape(new_X_test.shape[0],128,128,1)"
   ]
  },
  {
   "cell_type": "code",
   "execution_count": 20,
   "metadata": {},
   "outputs": [],
   "source": [
    "from keras.models import Sequential\n",
    "from keras.layers import Conv2D, MaxPooling2D, Flatten, Dense"
   ]
  },
  {
   "cell_type": "code",
   "execution_count": 26,
   "metadata": {},
   "outputs": [],
   "source": [
    "model = Sequential()"
   ]
  },
  {
   "cell_type": "code",
   "execution_count": 27,
   "metadata": {},
   "outputs": [],
   "source": [
    "model.add(Conv2D(kernel_size = (3,3), filters = 16, input_shape = (128,128,1), activation = 'relu', name = 'Input-layer'))\n",
    "model.add(MaxPooling2D(pool_size = (2,2), strides = 1, name = 'MaxPool-1'))\n",
    "\n",
    "model.add(Conv2D(kernel_size = (3,3), filters = 32, activation = 'relu', name = 'Convolution-1'))\n",
    "model.add(MaxPooling2D(pool_size = (2,2), strides = 1, name = 'MaxPool-2'))\n",
    "\n",
    "model.add(Conv2D(kernel_size = (3,3), filters = 64, activation = 'relu', name = 'Convolution-2'))\n",
    "model.add(MaxPooling2D(pool_size = (2,2), strides = 1, name = 'MaxPool-3'))\n",
    "\n",
    "model.add(Conv2D(kernel_size = (3,3), filters = 32, activation = 'relu', name = 'Convolution-3'))\n",
    "model.add(MaxPooling2D(pool_size = (2,2), strides = 1, name = 'MaxPool-4'))\n",
    "\n",
    "model.add(Conv2D(kernel_size = (3,3), filters = 16, activation = 'relu', name = 'Convolution-4'))\n",
    "model.add(MaxPooling2D(pool_size = (2,2), strides = 1, name = 'MaxPool-5'))\n",
    "\n",
    "model.add(Flatten(name='Flatten-1'))\n",
    "model.add(Dense(128, activation = 'relu', name = 'Dense-1'))\n",
    "model.add(Dense(10, activation = 'softmax', name = 'Output'))"
   ]
  },
  {
   "cell_type": "code",
   "execution_count": 23,
   "metadata": {},
   "outputs": [],
   "source": []
  },
  {
   "cell_type": "code",
   "execution_count": 28,
   "metadata": {},
   "outputs": [
    {
     "name": "stdout",
     "output_type": "stream",
     "text": [
      "_________________________________________________________________\n",
      "Layer (type)                 Output Shape              Param #   \n",
      "=================================================================\n",
      "Input-layer (Conv2D)         (None, 126, 126, 16)      160       \n",
      "_________________________________________________________________\n",
      "MaxPool-1 (MaxPooling2D)     (None, 125, 125, 16)      0         \n",
      "_________________________________________________________________\n",
      "Convolution-1 (Conv2D)       (None, 123, 123, 32)      4640      \n",
      "_________________________________________________________________\n",
      "MaxPool-2 (MaxPooling2D)     (None, 122, 122, 32)      0         \n",
      "_________________________________________________________________\n",
      "Convolution-2 (Conv2D)       (None, 120, 120, 64)      18496     \n",
      "_________________________________________________________________\n",
      "MaxPool-3 (MaxPooling2D)     (None, 119, 119, 64)      0         \n",
      "_________________________________________________________________\n",
      "Convolution-3 (Conv2D)       (None, 117, 117, 32)      18464     \n",
      "_________________________________________________________________\n",
      "MaxPool-4 (MaxPooling2D)     (None, 116, 116, 32)      0         \n",
      "_________________________________________________________________\n",
      "Convolution-4 (Conv2D)       (None, 114, 114, 16)      4624      \n",
      "_________________________________________________________________\n",
      "MaxPool-5 (MaxPooling2D)     (None, 113, 113, 16)      0         \n",
      "_________________________________________________________________\n",
      "Flatten-1 (Flatten)          (None, 204304)            0         \n",
      "_________________________________________________________________\n",
      "Dense-1 (Dense)              (None, 128)               26151040  \n",
      "_________________________________________________________________\n",
      "Output (Dense)               (None, 10)                1290      \n",
      "=================================================================\n",
      "Total params: 26,198,714\n",
      "Trainable params: 26,198,714\n",
      "Non-trainable params: 0\n",
      "_________________________________________________________________\n"
     ]
    }
   ],
   "source": [
    "model.summary()"
   ]
  },
  {
   "cell_type": "code",
   "execution_count": 29,
   "metadata": {},
   "outputs": [
    {
     "name": "stdout",
     "output_type": "stream",
     "text": [
      "Train on 60000 samples, validate on 10000 samples\n",
      "Epoch 1/3\n",
      "60000/60000 [==============================] - 3913s 65ms/step - loss: 0.3644 - acc: 0.9261 - val_loss: 0.0666 - val_acc: 0.9789\n",
      "Epoch 2/3\n",
      "60000/60000 [==============================] - 3921s 65ms/step - loss: 0.0636 - acc: 0.9799 - val_loss: 0.0711 - val_acc: 0.9781\n",
      "Epoch 3/3\n",
      "60000/60000 [==============================] - 3931s 66ms/step - loss: 0.0490 - acc: 0.9848 - val_loss: 0.0620 - val_acc: 0.9824\n"
     ]
    },
    {
     "data": {
      "text/plain": [
       "<keras.callbacks.History at 0x7fad2bed6ac8>"
      ]
     },
     "execution_count": 29,
     "metadata": {},
     "output_type": "execute_result"
    }
   ],
   "source": [
    "model.compile(loss = 'sparse_categorical_crossentropy', optimizer='adam', metrics=['accuracy'])\n",
    "model.fit(X_train, y_train,batch_size=64,\n",
    "            epochs=3,\n",
    "            verbose=1,\n",
    "            validation_split=0.10,\n",
    "            validation_data=(X_test,y_test),\n",
    "            )"
   ]
  },
  {
   "cell_type": "code",
   "execution_count": 30,
   "metadata": {},
   "outputs": [],
   "source": [
    "model.save('mnist_model_128px')"
   ]
  },
  {
   "cell_type": "code",
   "execution_count": null,
   "metadata": {},
   "outputs": [],
   "source": [
    "model = keras.models.load_model('mnist_model_128px')"
   ]
  },
  {
   "cell_type": "code",
   "execution_count": 59,
   "metadata": {},
   "outputs": [],
   "source": [
    "#color = [0, 0, 0]\n",
    "#new_img = cv2.copyMakeBorder(img, top, bottom, left, right, cv2.BORDER_CONSTANT, value=color)"
   ]
  },
  {
   "cell_type": "code",
   "execution_count": 60,
   "metadata": {},
   "outputs": [],
   "source": [
    "#new_img"
   ]
  },
  {
   "cell_type": "code",
   "execution_count": 70,
   "metadata": {},
   "outputs": [
    {
     "data": {
      "text/plain": [
       "array([9])"
      ]
     },
     "execution_count": 70,
     "metadata": {},
     "output_type": "execute_result"
    },
    {
     "data": {
      "image/png": "[encoded data removed]",
      "text/plain": [
       "<Figure size 432x288 with 1 Axes>"
      ]
     },
     "metadata": {
      "needs_background": "light"
     },
     "output_type": "display_data"
    }
   ],
   "source": [
    "plt.imshow(X_test[7700])\n",
    "model.predict_classes(X_test[7700].reshape(-1,128,128,1))"
   ]
  },
  {
   "cell_type": "code",
   "execution_count": null,
   "metadata": {},
   "outputs": [],
   "source": []
  }
 ],
 "metadata": {
  "kernelspec": {
   "display_name": "Python 3",
   "language": "python",
   "name": "python3"
  },
  "language_info": {
   "codemirror_mode": {
    "name": "ipython",
    "version": 3
   },
   "file_extension": ".py",
   "mimetype": "text/x-python",
   "name": "python",
   "nbconvert_exporter": "python",
   "pygments_lexer": "ipython3",
   "version": "3.6.8"
  }
 },
 "nbformat": 4,
 "nbformat_minor": 2
}
